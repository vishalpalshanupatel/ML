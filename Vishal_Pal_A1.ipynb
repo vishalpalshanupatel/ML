{
  "cells": [
    {
      "cell_type": "markdown",
      "id": "NjuvegwiXWrX",
      "metadata": {
        "id": "NjuvegwiXWrX"
      },
      "source": []
    },
    {
      "cell_type": "markdown",
      "id": "XLSCXCWmXg1f",
      "metadata": {
        "id": "XLSCXCWmXg1f"
      },
      "source": [
        "    **Question (1) How many multiplications and additions do you need to perform a matrix multiplication between a (n, k) and (k, m) matrix? Explain.**\n",
        "    \n",
        "\n"
      ]
    },
    {
      "cell_type": "markdown",
      "id": "65efd777",
      "metadata": {
        "id": "65efd777"
      },
      "source": [
        "Ans:- The process of matrix multiplication involves a total of (n*k*m) multiplications and (n*(k-1)*m) additions. This computation is based on the requirement that the number of columns in matrix A (k) must be equal to the number of rows in matrix B (k). To illustrate, consider matrices A with dimensions (n, k) and B with dimensions (k, m).\n",
        "\n",
        "Taking an example:\n",
        "Let A be [[1,2,...,k],[3,4,...,k],[n,...,k]] and\n",
        "B be [[1,2,...,m],[3,4,...,m],[k,...,m]].\n",
        "\n",
        "The multiplication of the first row of matrix A with the first column of matrix B necessitates (k*m) multiplications. Extending this process to n rows results in a total of n*(k*m) multiplications. Similarly, for the addition step, the multiplication of the first row of matrix A with the first column of matrix B requires (k-1)*m additions, and for n rows, n*(k-1)*m additions are required.\n"
      ]
    },
    {
      "cell_type": "markdown",
      "id": "fm4iBgahXA7x",
      "metadata": {
        "id": "fm4iBgahXA7x"
      },
      "source": []
    },
    {
      "cell_type": "markdown",
      "id": "BbdWwx3FXCxp",
      "metadata": {
        "id": "BbdWwx3FXCxp"
      },
      "source": [
        "**Question (2) Write Python code to multiply the above two matrices. Solve using list of lists and then use numpy.Compare the timing of both solutions. Which one is faster? Why?**"
      ]
    },
    {
      "cell_type": "code",
      "execution_count": null,
      "id": "2102fa59",
      "metadata": {
        "id": "2102fa59"
      },
      "outputs": [],
      "source": [
        "#2.\n",
        "\n",
        "\n",
        "def mul(n,A,B):\n",
        "    \n",
        "\n",
        "    \n",
        "    \n",
        "    \n",
        "    \n",
        "    \n",
        "    result =[[0 for j in range(n)] for i in range(n)]\n",
        "    \n",
        "    for i in range(len(A)): \n",
        "        for j in range(len(B[0])): \n",
        "            for k in range(len(B)):\n",
        "                result[i][j] += A[i][k] * B[k][j]\n",
        "    \n",
        "\n",
        "        \n",
        "    \n",
        "      \n",
        "        \n",
        "\n",
        "    \n"
      ]
    },
    {
      "cell_type": "code",
      "execution_count": null,
      "id": "c8d7233b",
      "metadata": {
        "id": "c8d7233b",
        "outputId": "8b2d7c26-67ff-4f1a-f49c-ec7472764571"
      },
      "outputs": [
        {
          "name": "stdout",
          "output_type": "stream",
          "text": [
            "6.62 s ± 532 ms per loop (mean ± std. dev. of 7 runs, 1 loop each)\n"
          ]
        }
      ],
      "source": [
        "import random\n",
        "n=256\n",
        "A =[[random.randint(-50,50) for x in range(n)] for i in range(n)]\n",
        "B =[[random.randint(-50,50) for x in range(n)] for i in range(n)]\n",
        "\n",
        "%timeit mul(n,A,B)"
      ]
    },
    {
      "cell_type": "code",
      "execution_count": null,
      "id": "d019f8c3",
      "metadata": {
        "id": "d019f8c3",
        "outputId": "3700be17-41cc-44e2-b390-5d2f64bdd136"
      },
      "outputs": [
        {
          "name": "stdout",
          "output_type": "stream",
          "text": [
            "71.1 ms ± 674 µs per loop (mean ± std. dev. of 7 runs, 10 loops each)\n"
          ]
        }
      ],
      "source": [
        "\n",
        "\n",
        "\n",
        "%timeit np.matmul(A,B)"
      ]
    },
    {
      "cell_type": "markdown",
      "id": "301f1573",
      "metadata": {
        "id": "301f1573"
      },
      "source": [
        "..........\n",
        "\n",
        "for 256*256 matrix python took 6.62 second and numpy took only 71.1 ms .\n",
        "hence numpy is faster than python result.\n",
        "because ,\n",
        "\n",
        "NumPy package divides a task into many pieces, which are then processed concurrently.\n",
        "Python code written in C, C++, and Fortran is integrated in the NumPy library.Compared to Python,these programming languages execute much faster."
      ]
    },
    {
      "cell_type": "markdown",
      "id": "kS0F0AeIXzaE",
      "metadata": {
        "id": "kS0F0AeIXzaE"
      },
      "source": [
        "**Question (3) Finding the highest element in a list requires one pass of the array. Finding the second highest element requires 2 passes of the the array. Using this method, what is the time complexity of finding the median of the array? Can you suggest a better method? Can you implement both these methods in Python and compare against numpy.median routine in terms of time?**"
      ]
    },
    {
      "cell_type": "code",
      "execution_count": null,
      "id": "1277a9b9",
      "metadata": {
        "id": "1277a9b9"
      },
      "outputs": [],
      "source": [
        "\n",
        "def median(array):\n",
        "    \n",
        "   \n",
        "    for i in range(len(array)//2+1):\n",
        "            max_idx = i\n",
        "\n",
        "            for j in range(i + 1, len(array)):\n",
        "\n",
        "\n",
        "                if array[j] > array[max_idx]:\n",
        "                    max_idx = j\n",
        "\n",
        "\n",
        "            (array[i], array[max_idx]) = (array[max_idx], array[i])\n",
        "\n",
        "\n",
        "    #print(array)\n",
        "    if len(array)%2==1 :\n",
        "        print(array[len(array)//2])\n",
        "\n",
        "    else:\n",
        "        median=(array[len(array)//2]+array[len(array)//2-1])/2\n",
        "        print(median)\n",
        "           \n",
        "              \n",
        "    "
      ]
    },
    {
      "cell_type": "code",
      "execution_count": null,
      "id": "dd32a428",
      "metadata": {
        "id": "dd32a428",
        "outputId": "f87d2749-f321-4237-c703-cb9a2da6f6f5"
      },
      "outputs": [
        {
          "name": "stdout",
          "output_type": "stream",
          "text": [
            "-20.0\n",
            "-20.0\n",
            "-20.0\n",
            "-20.0\n",
            "-20.0\n",
            "-20.0\n",
            "-20.0\n",
            "-20.0\n",
            "-20.0\n",
            "-20.0\n",
            "-20.0\n",
            "-20.0\n",
            "-20.0\n",
            "-20.0\n",
            "-20.0\n",
            "-20.0\n",
            "-20.0\n",
            "-20.0\n",
            "-20.0\n",
            "-20.0\n",
            "-20.0\n",
            "-20.0\n",
            "-20.0\n",
            "-20.0\n",
            "-20.0\n",
            "-20.0\n",
            "-20.0\n",
            "-20.0\n",
            "-20.0\n",
            "-20.0\n",
            "-20.0\n",
            "-20.0\n",
            "-20.0\n",
            "-20.0\n",
            "-20.0\n",
            "-20.0\n",
            "-20.0\n",
            "-20.0\n",
            "-20.0\n",
            "-20.0\n",
            "-20.0\n",
            "-20.0\n",
            "-20.0\n",
            "-20.0\n",
            "-20.0\n",
            "-20.0\n",
            "-20.0\n",
            "-20.0\n",
            "-20.0\n",
            "-20.0\n",
            "-20.0\n",
            "-20.0\n",
            "-20.0\n",
            "-20.0\n",
            "-20.0\n",
            "-20.0\n",
            "-20.0\n",
            "-20.0\n",
            "-20.0\n",
            "-20.0\n",
            "-20.0\n",
            "-20.0\n",
            "-20.0\n",
            "-20.0\n",
            "-20.0\n",
            "-20.0\n",
            "-20.0\n",
            "-20.0\n",
            "-20.0\n",
            "-20.0\n",
            "-20.0\n",
            "-20.0\n",
            "-20.0\n",
            "-20.0\n",
            "-20.0\n",
            "-20.0\n",
            "-20.0\n",
            "-20.0\n",
            "-20.0\n",
            "-20.0\n",
            "-20.0\n",
            "182 ms ± 5.29 ms per loop (mean ± std. dev. of 7 runs, 10 loops each)\n"
          ]
        }
      ],
      "source": [
        "n=2000\n",
        "array=[random.randint(-50,10) for x in range(n)]\n",
        "%timeit median(array)\n",
        "\n"
      ]
    },
    {
      "cell_type": "markdown",
      "id": "50fd2754",
      "metadata": {
        "id": "50fd2754"
      },
      "source": [
        "Time complexity of these method will be O(n/2*n/2) or O(n*n) where n is length of array .\n",
        "\n",
        "# Another method : \n",
        "we can use median of median algorithm for finding median :\n",
        "Refrence: https://gist.github.com/boulethao/a15809963d326a5ad43f255fbffbf9ff\n",
        "\n",
        "The time complexity of this algorithm is O(n) with big constant calculation time . \n",
        "\n",
        "\n"
      ]
    },
    {
      "cell_type": "code",
      "execution_count": null,
      "id": "5215eecb",
      "metadata": {
        "id": "5215eecb"
      },
      "outputs": [],
      "source": [
        "def median_of_medians(arr):\n",
        "   \n",
        "    if arr is None or len(arr) == 0:\n",
        "        return None\n",
        "\n",
        "    return select_pivot(arr, len(arr) // 2)\n",
        "\n",
        "\n",
        "def select_pivot(arr, k):\n",
        "    \n",
        "    chunks = [arr[i : i+5] for i in range(0, len(arr), 5)]\n",
        "\n",
        "    #sort each chunks\n",
        "    sorted_chunks = [sorted(chunk) for chunk in chunks]\n",
        "\n",
        "\n",
        "    \n",
        "    medians = [chunk[len(chunk) // 2] for chunk in sorted_chunks]\n",
        "\n",
        "    \n",
        "    if len(medians) <= 5:\n",
        "        pivot = sorted(medians)[len(medians) // 2]\n",
        "    else:\n",
        "        pivot = select_pivot(medians, len(medians) // 2)\n",
        "\n",
        "\n",
        "\n",
        "    \n",
        "    p = partition(arr, pivot)\n",
        "\n",
        "    \n",
        "    if k == p:\n",
        "        \n",
        "        return pivot\n",
        "\n",
        "    if k < p:\n",
        "        \n",
        "        return select_pivot(arr[0:p], k)\n",
        "    else:\n",
        "        \n",
        "        return select_pivot(arr[p+1:len(arr)], k - p - 1)\n",
        "\n",
        "\n",
        "def partition(arr, pivot):\n",
        "    \n",
        "    left = 0\n",
        "    right = len(arr) - 1\n",
        "    i = 0\n",
        "\n",
        "    while i <= right:\n",
        "        if arr[i] == pivot:\n",
        "            i += 1\n",
        "\n",
        "        elif arr[i] < pivot:\n",
        "            arr[left], arr[i] = arr[i], arr[left]\n",
        "            left += 1\n",
        "            i += 1\n",
        "        else:\n",
        "            arr[right], arr[i] = arr[i], arr[right]\n",
        "            right -= 1\n",
        "\n",
        "    return left\n",
        "\n",
        "\n",
        "\n",
        "\n"
      ]
    },
    {
      "cell_type": "code",
      "execution_count": null,
      "id": "74dbbc1f",
      "metadata": {
        "id": "74dbbc1f"
      },
      "outputs": [],
      "source": [
        "def f(array):\n",
        "    if len(array)%2 == 1:\n",
        "        median1 = median_of_medians(array)\n",
        "        print(median1)\n",
        "\n",
        "    else:\n",
        "        median1 = median_of_medians(array)\n",
        "        median2 = median_of_medians(array[:-1])\n",
        "        median=(median1 + median2)/2\n",
        "        print(median)"
      ]
    },
    {
      "cell_type": "code",
      "execution_count": null,
      "id": "d610e19b",
      "metadata": {
        "id": "d610e19b",
        "outputId": "22751b32-6491-4f6b-ef2c-a249f8de6c71"
      },
      "outputs": [
        {
          "name": "stdout",
          "output_type": "stream",
          "text": [
            "-20.0\n",
            "-20.0\n",
            "-20.0\n",
            "-20.0\n",
            "-20.0\n",
            "-20.0\n",
            "-20.0\n",
            "-20.0\n",
            "-20.0\n",
            "-20.0\n",
            "-20.0\n",
            "-20.0\n",
            "-20.0\n",
            "-20.0\n",
            "-20.0\n",
            "-20.0\n",
            "-20.0\n",
            "-20.0\n",
            "-20.0\n",
            "-20.0\n",
            "-20.0\n",
            "-20.0\n",
            "-20.0\n",
            "-20.0\n",
            "-20.0\n",
            "-20.0\n",
            "-20.0\n",
            "-20.0\n",
            "-20.0\n",
            "-20.0\n",
            "-20.0\n",
            "-20.0\n",
            "-20.0\n",
            "-20.0\n",
            "-20.0\n",
            "-20.0\n",
            "-20.0\n",
            "-20.0\n",
            "-20.0\n",
            "-20.0\n",
            "-20.0\n",
            "-20.0\n",
            "-20.0\n",
            "-20.0\n",
            "-20.0\n",
            "-20.0\n",
            "-20.0\n",
            "-20.0\n",
            "-20.0\n",
            "-20.0\n",
            "-20.0\n",
            "-20.0\n",
            "-20.0\n",
            "-20.0\n",
            "-20.0\n",
            "-20.0\n",
            "-20.0\n",
            "-20.0\n",
            "-20.0\n",
            "-20.0\n",
            "-20.0\n",
            "-20.0\n",
            "-20.0\n",
            "-20.0\n",
            "-20.0\n",
            "-20.0\n",
            "-20.0\n",
            "-20.0\n",
            "-20.0\n",
            "-20.0\n",
            "-20.0\n",
            "-20.0\n",
            "-20.0\n",
            "-20.0\n",
            "-20.0\n",
            "-20.0\n",
            "-20.0\n",
            "-20.0\n",
            "-20.0\n",
            "-20.0\n",
            "-20.0\n",
            "-20.0\n",
            "-20.0\n",
            "-20.0\n",
            "-20.0\n",
            "-20.0\n",
            "-20.0\n",
            "-20.0\n",
            "-20.0\n",
            "-20.0\n",
            "-20.0\n",
            "-20.0\n",
            "-20.0\n",
            "-20.0\n",
            "-20.0\n",
            "-20.0\n",
            "-20.0\n",
            "-20.0\n",
            "-20.0\n",
            "-20.0\n",
            "-20.0\n",
            "-20.0\n",
            "-20.0\n",
            "-20.0\n",
            "-20.0\n",
            "-20.0\n",
            "-20.0\n",
            "-20.0\n",
            "-20.0\n",
            "-20.0\n",
            "-20.0\n",
            "-20.0\n",
            "-20.0\n",
            "-20.0\n",
            "-20.0\n",
            "-20.0\n",
            "-20.0\n",
            "-20.0\n",
            "-20.0\n",
            "-20.0\n",
            "-20.0\n",
            "-20.0\n",
            "-20.0\n",
            "-20.0\n",
            "-20.0\n",
            "-20.0\n",
            "-20.0\n",
            "-20.0\n",
            "-20.0\n",
            "-20.0\n",
            "-20.0\n",
            "-20.0\n",
            "-20.0\n",
            "-20.0\n",
            "-20.0\n",
            "-20.0\n",
            "-20.0\n",
            "-20.0\n",
            "-20.0\n",
            "-20.0\n",
            "-20.0\n",
            "-20.0\n",
            "-20.0\n",
            "-20.0\n",
            "-20.0\n",
            "-20.0\n",
            "-20.0\n",
            "-20.0\n",
            "-20.0\n",
            "-20.0\n",
            "-20.0\n",
            "-20.0\n",
            "-20.0\n",
            "-20.0\n",
            "-20.0\n",
            "-20.0\n",
            "-20.0\n",
            "-20.0\n",
            "-20.0\n",
            "-20.0\n",
            "-20.0\n",
            "-20.0\n",
            "-20.0\n",
            "-20.0\n",
            "-20.0\n",
            "-20.0\n",
            "-20.0\n",
            "-20.0\n",
            "-20.0\n",
            "-20.0\n",
            "-20.0\n",
            "-20.0\n",
            "-20.0\n",
            "-20.0\n",
            "-20.0\n",
            "-20.0\n",
            "-20.0\n",
            "-20.0\n",
            "-20.0\n",
            "-20.0\n",
            "-20.0\n",
            "-20.0\n",
            "-20.0\n",
            "-20.0\n",
            "-20.0\n",
            "-20.0\n",
            "-20.0\n",
            "-20.0\n",
            "-20.0\n",
            "-20.0\n",
            "-20.0\n",
            "-20.0\n",
            "-20.0\n",
            "-20.0\n",
            "-20.0\n",
            "-20.0\n",
            "-20.0\n",
            "-20.0\n",
            "-20.0\n",
            "-20.0\n",
            "-20.0\n",
            "-20.0\n",
            "-20.0\n",
            "-20.0\n",
            "-20.0\n",
            "-20.0\n",
            "-20.0\n",
            "-20.0\n",
            "-20.0\n",
            "-20.0\n",
            "-20.0\n",
            "-20.0\n",
            "-20.0\n",
            "-20.0\n",
            "-20.0\n",
            "-20.0\n",
            "-20.0\n",
            "-20.0\n",
            "-20.0\n",
            "-20.0\n",
            "-20.0\n",
            "-20.0\n",
            "-20.0\n",
            "-20.0\n",
            "-20.0\n",
            "-20.0\n",
            "-20.0\n",
            "-20.0\n",
            "-20.0\n",
            "-20.0\n",
            "-20.0\n",
            "-20.0\n",
            "-20.0\n",
            "-20.0\n",
            "-20.0\n",
            "-20.0\n",
            "-20.0\n",
            "-20.0\n",
            "-20.0\n",
            "-20.0\n",
            "-20.0\n",
            "-20.0\n",
            "-20.0\n",
            "-20.0\n",
            "-20.0\n",
            "-20.0\n",
            "-20.0\n",
            "-20.0\n",
            "-20.0\n",
            "-20.0\n",
            "-20.0\n",
            "-20.0\n",
            "-20.0\n",
            "-20.0\n",
            "-20.0\n",
            "-20.0\n",
            "-20.0\n",
            "-20.0\n",
            "-20.0\n",
            "-20.0\n",
            "-20.0\n",
            "-20.0\n",
            "-20.0\n",
            "-20.0\n",
            "-20.0\n",
            "-20.0\n",
            "-20.0\n",
            "-20.0\n",
            "-20.0\n",
            "-20.0\n",
            "-20.0\n",
            "-20.0\n",
            "-20.0\n",
            "-20.0\n",
            "-20.0\n",
            "-20.0\n",
            "-20.0\n",
            "-20.0\n",
            "-20.0\n",
            "-20.0\n",
            "-20.0\n",
            "-20.0\n",
            "-20.0\n",
            "-20.0\n",
            "-20.0\n",
            "-20.0\n",
            "-20.0\n",
            "-20.0\n",
            "-20.0\n",
            "-20.0\n",
            "-20.0\n",
            "-20.0\n",
            "-20.0\n",
            "-20.0\n",
            "-20.0\n",
            "-20.0\n",
            "-20.0\n",
            "-20.0\n",
            "-20.0\n",
            "-20.0\n",
            "-20.0\n",
            "-20.0\n",
            "-20.0\n",
            "-20.0\n",
            "-20.0\n",
            "-20.0\n",
            "-20.0\n",
            "-20.0\n",
            "-20.0\n",
            "-20.0\n",
            "-20.0\n",
            "-20.0\n",
            "-20.0\n",
            "-20.0\n",
            "-20.0\n",
            "-20.0\n",
            "-20.0\n",
            "-20.0\n",
            "-20.0\n",
            "-20.0\n",
            "-20.0\n",
            "-20.0\n",
            "-20.0\n",
            "-20.0\n",
            "-20.0\n",
            "-20.0\n",
            "-20.0\n",
            "-20.0\n",
            "-20.0\n",
            "-20.0\n",
            "-20.0\n",
            "-20.0\n",
            "-20.0\n",
            "-20.0\n",
            "-20.0\n",
            "-20.0\n",
            "-20.0\n",
            "-20.0\n",
            "-20.0\n",
            "-20.0\n",
            "-20.0\n",
            "-20.0\n",
            "-20.0\n",
            "-20.0\n",
            "-20.0\n",
            "-20.0\n",
            "-20.0\n",
            "-20.0\n",
            "-20.0\n",
            "-20.0\n",
            "-20.0\n",
            "-20.0\n",
            "-20.0\n",
            "-20.0\n",
            "-20.0\n",
            "-20.0\n",
            "-20.0\n",
            "-20.0\n",
            "-20.0\n",
            "-20.0\n",
            "-20.0\n",
            "-20.0\n",
            "-20.0\n",
            "-20.0\n",
            "-20.0\n",
            "-20.0\n",
            "-20.0\n",
            "-20.0\n",
            "-20.0\n",
            "-20.0\n",
            "-20.0\n",
            "-20.0\n",
            "-20.0\n",
            "-20.0\n",
            "-20.0\n",
            "-20.0\n",
            "-20.0\n",
            "-20.0\n",
            "-20.0\n",
            "-20.0\n",
            "-20.0\n",
            "-20.0\n",
            "-20.0\n",
            "-20.0\n",
            "-20.0\n",
            "-20.0\n",
            "-20.0\n",
            "-20.0\n",
            "-20.0\n",
            "-20.0\n",
            "-20.0\n",
            "-20.0\n",
            "-20.0\n",
            "-20.0\n",
            "-20.0\n",
            "-20.0\n",
            "-20.0\n",
            "-20.0\n",
            "-20.0\n",
            "-20.0\n",
            "-20.0\n",
            "-20.0\n",
            "-20.0\n",
            "-20.0\n",
            "-20.0\n",
            "-20.0\n",
            "-20.0\n",
            "-20.0\n",
            "-20.0\n",
            "-20.0\n",
            "-20.0\n",
            "-20.0\n",
            "-20.0\n",
            "-20.0\n",
            "-20.0\n",
            "-20.0\n",
            "-20.0\n",
            "-20.0\n",
            "-20.0\n",
            "-20.0\n",
            "-20.0\n",
            "-20.0\n",
            "-20.0\n",
            "-20.0\n",
            "-20.0\n",
            "-20.0\n",
            "-20.0\n",
            "-20.0\n",
            "-20.0\n",
            "-20.0\n",
            "-20.0\n",
            "-20.0\n",
            "-20.0\n",
            "-20.0\n",
            "-20.0\n",
            "-20.0\n",
            "-20.0\n",
            "-20.0\n",
            "-20.0\n",
            "-20.0\n",
            "-20.0\n",
            "-20.0\n",
            "-20.0\n",
            "-20.0\n",
            "-20.0\n",
            "-20.0\n",
            "-20.0\n",
            "-20.0\n",
            "-20.0\n",
            "-20.0\n",
            "-20.0\n",
            "-20.0\n",
            "-20.0\n",
            "-20.0\n",
            "-20.0\n",
            "-20.0\n",
            "-20.0\n",
            "-20.0\n",
            "-20.0\n",
            "-20.0\n",
            "-20.0\n",
            "-20.0\n",
            "-20.0\n",
            "-20.0\n",
            "-20.0\n",
            "-20.0\n",
            "-20.0\n",
            "-20.0\n",
            "-20.0\n",
            "-20.0\n",
            "-20.0\n",
            "-20.0\n",
            "-20.0\n",
            "-20.0\n",
            "-20.0\n",
            "-20.0\n",
            "-20.0\n",
            "-20.0\n",
            "-20.0\n",
            "-20.0\n",
            "-20.0\n",
            "-20.0\n",
            "-20.0\n",
            "-20.0\n",
            "-20.0\n",
            "-20.0\n",
            "-20.0\n",
            "-20.0\n",
            "-20.0\n",
            "-20.0\n",
            "-20.0\n",
            "-20.0\n",
            "-20.0\n",
            "-20.0\n",
            "-20.0\n",
            "-20.0\n",
            "-20.0\n",
            "-20.0\n",
            "-20.0\n",
            "-20.0\n",
            "-20.0\n",
            "-20.0\n",
            "-20.0\n",
            "-20.0\n",
            "-20.0\n",
            "-20.0\n",
            "-20.0\n",
            "-20.0\n",
            "-20.0\n",
            "-20.0\n",
            "-20.0\n",
            "-20.0\n",
            "-20.0\n",
            "-20.0\n",
            "-20.0\n",
            "-20.0\n",
            "-20.0\n",
            "-20.0\n",
            "-20.0\n",
            "-20.0\n",
            "-20.0\n",
            "-20.0\n",
            "-20.0\n",
            "-20.0\n",
            "-20.0\n",
            "-20.0\n",
            "-20.0\n",
            "-20.0\n",
            "-20.0\n",
            "-20.0\n",
            "-20.0\n",
            "-20.0\n",
            "-20.0\n",
            "-20.0\n",
            "-20.0\n",
            "-20.0\n",
            "-20.0\n",
            "-20.0\n",
            "-20.0\n",
            "-20.0\n",
            "-20.0\n",
            "-20.0\n",
            "-20.0\n",
            "-20.0\n",
            "-20.0\n",
            "-20.0\n",
            "-20.0\n",
            "-20.0\n",
            "-20.0\n",
            "-20.0\n",
            "-20.0\n",
            "-20.0\n",
            "-20.0\n",
            "-20.0\n",
            "-20.0\n",
            "-20.0\n",
            "-20.0\n",
            "-20.0\n",
            "-20.0\n",
            "-20.0\n",
            "-20.0\n",
            "-20.0\n",
            "-20.0\n",
            "-20.0\n",
            "-20.0\n",
            "-20.0\n",
            "-20.0\n",
            "-20.0\n",
            "-20.0\n",
            "-20.0\n",
            "-20.0\n",
            "-20.0\n",
            "-20.0\n",
            "-20.0\n",
            "-20.0\n",
            "-20.0\n",
            "-20.0\n",
            "-20.0\n",
            "-20.0\n",
            "-20.0\n",
            "-20.0\n",
            "-20.0\n",
            "-20.0\n",
            "-20.0\n",
            "-20.0\n",
            "-20.0\n",
            "-20.0\n",
            "-20.0\n",
            "-20.0\n",
            "-20.0\n",
            "-20.0\n",
            "-20.0\n",
            "-20.0\n",
            "-20.0\n",
            "-20.0\n",
            "-20.0\n",
            "-20.0\n",
            "-20.0\n",
            "-20.0\n",
            "-20.0\n",
            "-20.0\n",
            "-20.0\n",
            "-20.0\n",
            "-20.0\n",
            "-20.0\n",
            "-20.0\n",
            "-20.0\n",
            "-20.0\n",
            "-20.0\n",
            "-20.0\n",
            "-20.0\n",
            "-20.0\n",
            "-20.0\n",
            "-20.0\n",
            "-20.0\n",
            "-20.0\n",
            "-20.0\n",
            "-20.0\n",
            "-20.0\n",
            "-20.0\n",
            "-20.0\n",
            "-20.0\n",
            "-20.0\n",
            "-20.0\n",
            "-20.0\n",
            "-20.0\n",
            "-20.0\n",
            "-20.0\n",
            "-20.0\n",
            "-20.0\n",
            "-20.0\n",
            "-20.0\n",
            "-20.0\n",
            "-20.0\n",
            "-20.0\n",
            "-20.0\n",
            "-20.0\n",
            "-20.0\n",
            "-20.0\n",
            "-20.0\n",
            "-20.0\n",
            "-20.0\n",
            "-20.0\n",
            "-20.0\n",
            "-20.0\n",
            "-20.0\n",
            "-20.0\n",
            "-20.0\n",
            "-20.0\n",
            "-20.0\n",
            "-20.0\n",
            "-20.0\n",
            "-20.0\n",
            "-20.0\n",
            "-20.0\n",
            "-20.0\n",
            "-20.0\n",
            "-20.0\n",
            "-20.0\n",
            "-20.0\n",
            "-20.0\n",
            "-20.0\n",
            "-20.0\n",
            "-20.0\n",
            "-20.0\n",
            "-20.0\n",
            "-20.0\n",
            "-20.0\n",
            "-20.0\n",
            "-20.0\n",
            "-20.0\n",
            "-20.0\n",
            "-20.0\n",
            "-20.0\n",
            "-20.0\n",
            "-20.0\n",
            "-20.0\n",
            "-20.0\n",
            "-20.0\n",
            "-20.0\n",
            "-20.0\n",
            "-20.0\n",
            "-20.0\n",
            "-20.0\n",
            "-20.0\n",
            "-20.0\n",
            "-20.0\n",
            "-20.0\n",
            "-20.0\n",
            "-20.0\n",
            "-20.0\n",
            "-20.0\n",
            "-20.0\n",
            "-20.0\n",
            "-20.0\n",
            "-20.0\n",
            "-20.0\n",
            "-20.0\n",
            "-20.0\n",
            "-20.0\n",
            "-20.0\n",
            "-20.0\n",
            "-20.0\n",
            "-20.0\n",
            "-20.0\n",
            "-20.0\n",
            "-20.0\n",
            "-20.0\n",
            "-20.0\n",
            "-20.0\n",
            "-20.0\n",
            "-20.0\n",
            "-20.0\n",
            "-20.0\n",
            "-20.0\n",
            "-20.0\n",
            "-20.0\n",
            "-20.0\n",
            "-20.0\n",
            "-20.0\n",
            "-20.0\n",
            "-20.0\n",
            "-20.0\n",
            "-20.0\n",
            "-20.0\n",
            "-20.0\n",
            "-20.0\n",
            "-20.0\n",
            "-20.0\n",
            "-20.0\n",
            "-20.0\n",
            "-20.0\n",
            "-20.0\n",
            "-20.0\n",
            "-20.0\n",
            "-20.0\n",
            "-20.0\n",
            "-20.0\n",
            "-20.0\n",
            "-20.0\n",
            "-20.0\n",
            "-20.0\n",
            "-20.0\n",
            "-20.0\n",
            "-20.0\n",
            "-20.0\n",
            "-20.0\n",
            "-20.0\n",
            "-20.0\n",
            "-20.0\n",
            "-20.0\n",
            "-20.0\n",
            "-20.0\n",
            "-20.0\n",
            "-20.0\n",
            "-20.0\n",
            "-20.0\n",
            "-20.0\n",
            "-20.0\n",
            "-20.0\n",
            "-20.0\n",
            "-20.0\n",
            "-20.0\n",
            "-20.0\n",
            "-20.0\n",
            "-20.0\n",
            "-20.0\n",
            "-20.0\n",
            "-20.0\n",
            "-20.0\n",
            "-20.0\n",
            "-20.0\n",
            "-20.0\n",
            "-20.0\n",
            "-20.0\n",
            "-20.0\n",
            "-20.0\n",
            "-20.0\n",
            "-20.0\n",
            "-20.0\n",
            "-20.0\n",
            "-20.0\n",
            "-20.0\n",
            "-20.0\n",
            "-20.0\n",
            "-20.0\n",
            "-20.0\n",
            "-20.0\n",
            "-20.0\n",
            "-20.0\n",
            "-20.0\n",
            "-20.0\n",
            "-20.0\n",
            "-20.0\n",
            "-20.0\n",
            "-20.0\n",
            "-20.0\n",
            "-20.0\n",
            "-20.0\n",
            "-20.0\n",
            "-20.0\n",
            "-20.0\n",
            "-20.0\n",
            "-20.0\n",
            "-20.0\n",
            "-20.0\n",
            "-20.0\n",
            "-20.0\n",
            "-20.0\n",
            "-20.0\n",
            "-20.0\n",
            "8.38 ms ± 341 µs per loop (mean ± std. dev. of 7 runs, 100 loops each)\n"
          ]
        }
      ],
      "source": [
        "%timeit f(array)"
      ]
    },
    {
      "cell_type": "code",
      "execution_count": null,
      "id": "d2f370d2",
      "metadata": {
        "id": "d2f370d2",
        "outputId": "9bc2727b-cf3a-455b-8cd0-2041cd825161"
      },
      "outputs": [
        {
          "name": "stdout",
          "output_type": "stream",
          "text": [
            "268 µs ± 6.98 µs per loop (mean ± std. dev. of 7 runs, 1,000 loops each)\n"
          ]
        }
      ],
      "source": [
        "%timeit np.median(array)"
      ]
    },
    {
      "cell_type": "markdown",
      "id": "df4c9c1a",
      "metadata": {
        "id": "df4c9c1a"
      },
      "source": [
        "## Comparison \n",
        "\n",
        "first approach time required is 182 ms and by median of median time required is 8.38 ms but by numpy median function took only 268 micro seconds.\n"
      ]
    },
    {
      "cell_type": "markdown",
      "id": "tRZcKDpnHf3Y",
      "metadata": {
        "id": "tRZcKDpnHf3Y"
      },
      "source": [
        "**Question (4) What is the gradient of the following function with respect to x and y?**\n",
        "\n"
      ]
    },
    {
      "cell_type": "markdown",
      "id": "8bba97df",
      "metadata": {
        "id": "8bba97df"
      },
      "source": [
        "## Question 4\n",
        "\n",
        "                       \n",
        "given: $f \\big(x,y\\big)   =  x^{2}y+y^{3}sin \\big(x\\big) $\n",
        "\n",
        "$ Grad \\big(f \\big(x,y\\big) \\big) = \\frac{\\partial f}{\\partial x} i +  \\frac{\\partial f}{\\partial y} j $\n",
        "\n",
        "$ = \\frac{\\partial   \\big( x^{2}y+y^{3}sin \\big(x\\big)\\big) }{\\partial x} i + \\frac{\\partial   \\big( x^{2}y+y^{3}sin \\big(x\\big)\\big) }{\\partial y} j $  \n",
        "\n",
        "$ = \\big( 2 x y  +  y^{3}cos \\big(x\\big) \\big) i +  \\big(x^{2}+ 3 y^{2}sin \\big(x\\big) \\big)  j $\n",
        "\n",
        "\n",
        "\n"
      ]
    },
    {
      "cell_type": "markdown",
      "id": "7iYmKulcGxu7",
      "metadata": {
        "id": "7iYmKulcGxu7"
      },
      "source": [
        "**Question (5). Use JAX to confirm the gradient evaluated by your method matches the analytical solution corresponding to a few random values of x and y**"
      ]
    },
    {
      "cell_type": "code",
      "execution_count": null,
      "id": "27f551eb",
      "metadata": {
        "colab": {
          "base_uri": "https://localhost:8080/"
        },
        "id": "27f551eb",
        "outputId": "305a0a33-c6d2-4688-a9ae-eac5e126dab6"
      },
      "outputs": [
        {
          "data": {
            "text/plain": [
              "(DeviceArray(2.5403023, dtype=float32, weak_type=True),\n",
              " DeviceArray(3.5244129, dtype=float32, weak_type=True))"
            ]
          },
          "execution_count": 24,
          "metadata": {},
          "output_type": "execute_result"
        }
      ],
      "source": [
        "## Question 5\n",
        "import jax\n",
        "import jax.numpy as jnp\n",
        "from jax import grad\n",
        "\n",
        "\n",
        "def f(x, y):\n",
        "  return (x ** 2)*y + (y**3)*jnp.sin(x)\n",
        "\n",
        "df_dxy = grad(f, argnums=(0, 1))\n",
        "\n",
        "\n",
        "x = 1.0\n",
        "y = 1.0\n",
        "( df_dxy(x,y))\n"
      ]
    },
    {
      "cell_type": "markdown",
      "id": "fCm7JcWLH5SB",
      "metadata": {
        "id": "fCm7JcWLH5SB"
      },
      "source": [
        "**Question (6) Use sympy to confirm that you obtain the same gradient analytically.**"
      ]
    },
    {
      "cell_type": "code",
      "execution_count": null,
      "id": "ebb558fc",
      "metadata": {
        "id": "ebb558fc"
      },
      "outputs": [],
      "source": [
        "##Question 6\n",
        "\n",
        "from sympy import *\n",
        "x=symbols('x')\n",
        "y=symbols('y')\n"
      ]
    },
    {
      "cell_type": "code",
      "execution_count": null,
      "id": "e3e7d9ad",
      "metadata": {
        "colab": {
          "base_uri": "https://localhost:8080/",
          "height": 55
        },
        "id": "e3e7d9ad",
        "outputId": "b33e1d41-1f0f-41f2-9c38-00440873d48e"
      },
      "outputs": [
        {
          "name": "stdout",
          "output_type": "stream",
          "text": [
            "2*x*y + y**3*cos(x)\n"
          ]
        },
        {
          "data": {
            "text/latex": [
              "$\\displaystyle 2.54030230586814$"
            ],
            "text/plain": [
              "2.54030230586814"
            ]
          },
          "execution_count": 42,
          "metadata": {},
          "output_type": "execute_result"
        }
      ],
      "source": [
        "res1=diff( ((x**2)*y) + ((y**3)*sin(x)), x) \n",
        "print(res1)\n",
        "res1.evalf(subs={x:1.0,y:1.0})\n"
      ]
    },
    {
      "cell_type": "code",
      "execution_count": null,
      "id": "26f11604",
      "metadata": {
        "colab": {
          "base_uri": "https://localhost:8080/",
          "height": 55
        },
        "id": "26f11604",
        "outputId": "41372fd5-e82e-4c74-bcac-8639678e960c"
      },
      "outputs": [
        {
          "name": "stdout",
          "output_type": "stream",
          "text": [
            "x**2 + 3*y**2*sin(x)\n"
          ]
        },
        {
          "data": {
            "text/latex": [
              "$\\displaystyle 3.52441295442369$"
            ],
            "text/plain": [
              "3.52441295442369"
            ]
          },
          "execution_count": 43,
          "metadata": {},
          "output_type": "execute_result"
        }
      ],
      "source": [
        "res2=diff( ((x**2)*y) + ((y**3)*sin(x)), y)\n",
        "print(res2)\n",
        "res2.evalf(subs={x:1.0,y:1.0})"
      ]
    },
    {
      "cell_type": "markdown",
      "id": "6qB0ZwtfNnxl",
      "metadata": {
        "id": "6qB0ZwtfNnxl"
      },
      "source": [
        "**Question.(7)  Create a Python nested dictionary to represent hierarchical information. We want to store record of students and their marks.**\n"
      ]
    },
    {
      "cell_type": "code",
      "execution_count": null,
      "id": "df7d9380",
      "metadata": {
        "colab": {
          "base_uri": "https://localhost:8080/"
        },
        "id": "df7d9380",
        "outputId": "161dc16d-1b21-4de2-9fdf-04d48585b350"
      },
      "outputs": [
        {
          "data": {
            "text/plain": [
              "{2022: {'Branch1': {1: {'Roll number': 1,\n",
              "    'Name': 'R0',\n",
              "    'Marks': {'Maths': 9, 'English': 9}},\n",
              "   2: {'Roll number': 2, 'Name': 'R1', 'Marks': {'Maths': 9, 'English': 9}},\n",
              "   3: {'Roll number': 3, 'Name': 'R2', 'Marks': {'Maths': 9, 'English': 9}},\n",
              "   4: {'Roll number': 4, 'Name': 'R3', 'Marks': {'Maths': 9, 'English': 9}},\n",
              "   5: {'Roll number': 5, 'Name': 'R4', 'Marks': {'Maths': 9, 'English': 9}}},\n",
              "  'Branch2': {1: {'Roll number': 1,\n",
              "    'Name': 'R0',\n",
              "    'Marks': {'Maths': 9, 'English': 9}},\n",
              "   2: {'Roll number': 2, 'Name': 'R1', 'Marks': {'Maths': 9, 'English': 9}},\n",
              "   3: {'Roll number': 3, 'Name': 'R2', 'Marks': {'Maths': 9, 'English': 9}},\n",
              "   4: {'Roll number': 4, 'Name': 'R3', 'Marks': {'Maths': 9, 'English': 9}},\n",
              "   5: {'Roll number': 5, 'Name': 'R4', 'Marks': {'Maths': 9, 'English': 9}}},\n",
              "  'Branch3': {1: {'Roll number': 1,\n",
              "    'Name': 'R0',\n",
              "    'Marks': {'Maths': 9, 'English': 9}},\n",
              "   2: {'Roll number': 2, 'Name': 'R1', 'Marks': {'Maths': 9, 'English': 9}},\n",
              "   3: {'Roll number': 3, 'Name': 'R2', 'Marks': {'Maths': 9, 'English': 9}},\n",
              "   4: {'Roll number': 4, 'Name': 'R3', 'Marks': {'Maths': 9, 'English': 9}},\n",
              "   5: {'Roll number': 5, 'Name': 'R4', 'Marks': {'Maths': 9, 'English': 9}}}},\n",
              " 2023: {'Branch1': {1: {'Roll number': 1,\n",
              "    'Name': 'R0',\n",
              "    'Marks': {'Maths': 9, 'English': 9}},\n",
              "   2: {'Roll number': 2, 'Name': 'R1', 'Marks': {'Maths': 9, 'English': 9}},\n",
              "   3: {'Roll number': 3, 'Name': 'R2', 'Marks': {'Maths': 9, 'English': 9}},\n",
              "   4: {'Roll number': 4, 'Name': 'R3', 'Marks': {'Maths': 9, 'English': 9}},\n",
              "   5: {'Roll number': 5, 'Name': 'R4', 'Marks': {'Maths': 9, 'English': 9}}},\n",
              "  'Branch2': {1: {'Roll number': 1,\n",
              "    'Name': 'R0',\n",
              "    'Marks': {'Maths': 9, 'English': 9}},\n",
              "   2: {'Roll number': 2, 'Name': 'R1', 'Marks': {'Maths': 9, 'English': 9}},\n",
              "   3: {'Roll number': 3, 'Name': 'R2', 'Marks': {'Maths': 9, 'English': 9}},\n",
              "   4: {'Roll number': 4, 'Name': 'R3', 'Marks': {'Maths': 9, 'English': 9}},\n",
              "   5: {'Roll number': 5, 'Name': 'R4', 'Marks': {'Maths': 9, 'English': 9}}},\n",
              "  'Branch3': {1: {'Roll number': 1,\n",
              "    'Name': 'R0',\n",
              "    'Marks': {'Maths': 9, 'English': 9}},\n",
              "   2: {'Roll number': 2, 'Name': 'R1', 'Marks': {'Maths': 9, 'English': 9}},\n",
              "   3: {'Roll number': 3, 'Name': 'R2', 'Marks': {'Maths': 9, 'English': 9}},\n",
              "   4: {'Roll number': 4, 'Name': 'R3', 'Marks': {'Maths': 9, 'English': 9}},\n",
              "   5: {'Roll number': 5, 'Name': 'R4', 'Marks': {'Maths': 9, 'English': 9}}}},\n",
              " 2024: {'Branch1': {1: {'Roll number': 1,\n",
              "    'Name': 'R0',\n",
              "    'Marks': {'Maths': 9, 'English': 9}},\n",
              "   2: {'Roll number': 2, 'Name': 'R1', 'Marks': {'Maths': 9, 'English': 9}},\n",
              "   3: {'Roll number': 3, 'Name': 'R2', 'Marks': {'Maths': 9, 'English': 9}},\n",
              "   4: {'Roll number': 4, 'Name': 'R3', 'Marks': {'Maths': 9, 'English': 9}},\n",
              "   5: {'Roll number': 5, 'Name': 'R4', 'Marks': {'Maths': 9, 'English': 9}}},\n",
              "  'Branch2': {1: {'Roll number': 1,\n",
              "    'Name': 'R0',\n",
              "    'Marks': {'Maths': 9, 'English': 9}},\n",
              "   2: {'Roll number': 2, 'Name': 'R1', 'Marks': {'Maths': 9, 'English': 9}},\n",
              "   3: {'Roll number': 3, 'Name': 'R2', 'Marks': {'Maths': 9, 'English': 9}},\n",
              "   4: {'Roll number': 4, 'Name': 'R3', 'Marks': {'Maths': 9, 'English': 9}},\n",
              "   5: {'Roll number': 5, 'Name': 'R4', 'Marks': {'Maths': 9, 'English': 9}}},\n",
              "  'Branch3': {1: {'Roll number': 1,\n",
              "    'Name': 'R0',\n",
              "    'Marks': {'Maths': 9, 'English': 9}},\n",
              "   2: {'Roll number': 2, 'Name': 'R1', 'Marks': {'Maths': 9, 'English': 9}},\n",
              "   3: {'Roll number': 3, 'Name': 'R2', 'Marks': {'Maths': 9, 'English': 9}},\n",
              "   4: {'Roll number': 4, 'Name': 'R3', 'Marks': {'Maths': 9, 'English': 9}},\n",
              "   5: {'Roll number': 5, 'Name': 'R4', 'Marks': {'Maths': 9, 'English': 9}}}},\n",
              " 2025: {'Branch1': {1: {'Roll number': 1,\n",
              "    'Name': 'R0',\n",
              "    'Marks': {'Maths': 9, 'English': 9}},\n",
              "   2: {'Roll number': 2, 'Name': 'R1', 'Marks': {'Maths': 9, 'English': 9}},\n",
              "   3: {'Roll number': 3, 'Name': 'R2', 'Marks': {'Maths': 9, 'English': 9}},\n",
              "   4: {'Roll number': 4, 'Name': 'R3', 'Marks': {'Maths': 9, 'English': 9}},\n",
              "   5: {'Roll number': 5, 'Name': 'R4', 'Marks': {'Maths': 9, 'English': 9}}},\n",
              "  'Branch2': {1: {'Roll number': 1,\n",
              "    'Name': 'R0',\n",
              "    'Marks': {'Maths': 9, 'English': 9}},\n",
              "   2: {'Roll number': 2, 'Name': 'R1', 'Marks': {'Maths': 9, 'English': 9}},\n",
              "   3: {'Roll number': 3, 'Name': 'R2', 'Marks': {'Maths': 9, 'English': 9}},\n",
              "   4: {'Roll number': 4, 'Name': 'R3', 'Marks': {'Maths': 9, 'English': 9}},\n",
              "   5: {'Roll number': 5, 'Name': 'R4', 'Marks': {'Maths': 9, 'English': 9}}},\n",
              "  'Branch3': {1: {'Roll number': 1,\n",
              "    'Name': 'R0',\n",
              "    'Marks': {'Maths': 9, 'English': 9}},\n",
              "   2: {'Roll number': 2, 'Name': 'R1', 'Marks': {'Maths': 9, 'English': 9}},\n",
              "   3: {'Roll number': 3, 'Name': 'R2', 'Marks': {'Maths': 9, 'English': 9}},\n",
              "   4: {'Roll number': 4, 'Name': 'R3', 'Marks': {'Maths': 9, 'English': 9}},\n",
              "   5: {'Roll number': 5, 'Name': 'R4', 'Marks': {'Maths': 9, 'English': 9}}}}}"
            ]
          },
          "execution_count": 45,
          "metadata": {},
          "output_type": "execute_result"
        }
      ],
      "source": [
        "\n",
        "\n",
        "\n",
        "import random\n",
        "marks = {'Maths':random.randint(5,10),\n",
        "         'English': random.randint(5,10),\n",
        "        }\n",
        "\n",
        "students = dict()\n",
        "for i in range(5):\n",
        "    students[i+1] = {'Roll number': i+1,\n",
        "                   'Name': \"R\"+str(i),\n",
        "                   'Marks': marks}\n",
        "branch = dict()\n",
        "for i in range(3):\n",
        "    branch[\"Branch\"+str(i+1)] = students\n",
        "\n",
        "year = dict()\n",
        "for i in range(2022,2026):\n",
        "    year[i] = branch\n",
        "\n",
        "year\n"
      ]
    },
    {
      "cell_type": "markdown",
      "id": "lGurl0YeNu4w",
      "metadata": {
        "id": "lGurl0YeNu4w"
      },
      "source": [
        "**Question (8) Store the same information using Python classes. We have an overall database which is a list of year objects. Each year contains a list of branches. Each branch contains a list of students. Each student has some properties like name, roll number and has marks in some subjects.**"
      ]
    },
    {
      "cell_type": "code",
      "execution_count": null,
      "id": "ad951a02",
      "metadata": {
        "colab": {
          "base_uri": "https://localhost:8080/"
        },
        "id": "ad951a02",
        "outputId": "94e3aff9-8da6-4a80-c185-e94d00c5ff36"
      },
      "outputs": [
        {
          "name": "stdout",
          "output_type": "stream",
          "text": [
            "2\n",
            "R2\n",
            "{'Hindi': 10, 'English': 6}\n",
            "[<__main__.YearClass object at 0x7ff060fd3310>, <__main__.YearClass object at 0x7ff060fd3370>, <__main__.YearClass object at 0x7ff0607ff190>, <__main__.YearClass object at 0x7ff0607ff670>]\n"
          ]
        }
      ],
      "source": [
        "\n",
        "\n",
        "import random\n",
        "\n",
        "class StudentClass:\n",
        "    def __init__(self, roll, name):\n",
        "        self.roll = roll\n",
        "        self.name = name\n",
        "        self.Marks = {'Hindi': random.randint(5,10),\n",
        "                      'English': random.randint(5,10)\n",
        "                     }\n",
        "\n",
        "class BranchClass:\n",
        "    def __init__(self, branchName):\n",
        "        self.branchName = branchName\n",
        "        self.listOfStudents = list()\n",
        "\n",
        "    def admit_student(self,student):\n",
        "        self.listOfStudents.append(student)\n",
        "\n",
        "class YearClass:\n",
        "    def __init__(self,yearNumber):\n",
        "        self.yearNum = yearNumber\n",
        "        self.branches = list()\n",
        "\n",
        "    def add_branch(self, branch):\n",
        "        self.branches.append(branch)\n",
        "\n",
        "\n",
        "\n",
        "yearList1 = list()\n",
        "for yr in range(2022, 2026):\n",
        "    year = YearClass(yr)\n",
        "    for br in range(1,3):\n",
        "        branch = BranchClass('Branch'+str(br))\n",
        "        for rol in range(1,6):\n",
        "            student = StudentClass(rol, 'R' + str(rol))\n",
        "            branch.admit_student(student)\n",
        "        year.add_branch(branch)\n",
        "    yearList1.append(year)\n",
        "    \n",
        "print(yearList1[0].branches[0].listOfStudents[1].roll)\n",
        "print(yearList1[0].branches[0].listOfStudents[1].name)   \n",
        "print(yearList1[0].branches[0].listOfStudents[1].Marks)\n",
        "\n"
      ]
    },
    {
      "cell_type": "markdown",
      "id": "Ex_G0vcyN61e",
      "metadata": {
        "id": "Ex_G0vcyN61e"
      },
      "source": [
        "**Question (9) Using matplotlib plot the following functions on the domain: x = 0.5 to 100.0 in steps of 0.5.**"
      ]
    },
    {
      "cell_type": "code",
      "execution_count": 2,
      "id": "213bb04f",
      "metadata": {
        "colab": {
          "base_uri": "https://localhost:8080/"
        },
        "id": "213bb04f",
        "outputId": "086fac1b-9774-4d3b-f835-9f815f408b31"
      },
      "outputs": [
        {
          "ename": "NameError",
          "evalue": "name 'np' is not defined",
          "output_type": "error",
          "traceback": [
            "\u001b[1;31m---------------------------------------------------------------------------\u001b[0m",
            "\u001b[1;31mNameError\u001b[0m                                 Traceback (most recent call last)",
            "\u001b[1;32mc:\\Users\\vishal pal\\Downloads\\Machine_Learning_Prerequisite_-ES-654--main\\Machine_Learning_Prerequisite_-ES-654--main\\ML_Pre.ipynb Cell 33\u001b[0m line \u001b[0;36m1\n\u001b[1;32m----> <a href='vscode-notebook-cell:/c%3A/Users/vishal%20pal/Downloads/Machine_Learning_Prerequisite_-ES-654--main/Machine_Learning_Prerequisite_-ES-654--main/ML_Pre.ipynb#X45sZmlsZQ%3D%3D?line=0'>1</a>\u001b[0m x\u001b[39m=\u001b[39mnp\u001b[39m.\u001b[39marange(start\u001b[39m=\u001b[39m\u001b[39m0.5\u001b[39m, stop\u001b[39m=\u001b[39m\u001b[39m100\u001b[39m, step\u001b[39m=\u001b[39m\u001b[39m0.5\u001b[39m)\n\u001b[0;32m      <a href='vscode-notebook-cell:/c%3A/Users/vishal%20pal/Downloads/Machine_Learning_Prerequisite_-ES-654--main/Machine_Learning_Prerequisite_-ES-654--main/ML_Pre.ipynb#X45sZmlsZQ%3D%3D?line=1'>2</a>\u001b[0m y\u001b[39m=\u001b[39mx\n\u001b[0;32m      <a href='vscode-notebook-cell:/c%3A/Users/vishal%20pal/Downloads/Machine_Learning_Prerequisite_-ES-654--main/Machine_Learning_Prerequisite_-ES-654--main/ML_Pre.ipynb#X45sZmlsZQ%3D%3D?line=2'>3</a>\u001b[0m y\n",
            "\u001b[1;31mNameError\u001b[0m: name 'np' is not defined"
          ]
        }
      ],
      "source": [
        "\n",
        "\n",
        "x=np.arange(start=0.5, stop=100, step=0.5)\n",
        "y=x\n",
        "y\n"
      ]
    },
    {
      "cell_type": "code",
      "execution_count": null,
      "id": "e8c5303e",
      "metadata": {
        "colab": {
          "base_uri": "https://localhost:8080/",
          "height": 282
        },
        "id": "e8c5303e",
        "outputId": "7d7829e8-d8e5-42a5-8ab6-a69538295eb5"
      },
      "outputs": [
        {
          "data": {
            "text/plain": [
              "[<matplotlib.lines.Line2D at 0x7ff06072f190>]"
            ]
          },
          "execution_count": 50,
          "metadata": {},
          "output_type": "execute_result"
        },
        {
          "data": {
            "image/png": "[encoded data removed]",
            "text/plain": [
              "<Figure size 432x288 with 1 Axes>"
            ]
          },
          "metadata": {
            "needs_background": "light"
          },
          "output_type": "display_data"
        }
      ],
      "source": [
        "import matplotlib.pyplot as plt\n",
        "plt.plot(x, y, label = \"line\")\n",
        "  \n"
      ]
    },
    {
      "cell_type": "code",
      "execution_count": null,
      "id": "8a2882c3",
      "metadata": {
        "colab": {
          "base_uri": "https://localhost:8080/",
          "height": 282
        },
        "id": "8a2882c3",
        "outputId": "c9ad9f4c-1f3a-4f36-bcf6-cea4a85f9f93"
      },
      "outputs": [
        {
          "data": {
            "text/plain": [
              "[<matplotlib.lines.Line2D at 0x7ff0611ddfd0>]"
            ]
          },
          "execution_count": 33,
          "metadata": {},
          "output_type": "execute_result"
        },
        {
          "data": {
            "image/png": "[encoded data removed]",
            "text/plain": [
              "<Figure size 432x288 with 1 Axes>"
            ]
          },
          "metadata": {
            "needs_background": "light"
          },
          "output_type": "display_data"
        }
      ],
      "source": [
        "y2=x*x\n",
        "y2\n",
        "plt.plot(x, y2, label = \"line\")\n"
      ]
    },
    {
      "cell_type": "code",
      "execution_count": null,
      "id": "a6369d0b",
      "metadata": {
        "colab": {
          "base_uri": "https://localhost:8080/",
          "height": 282
        },
        "id": "a6369d0b",
        "outputId": "2b5b48e9-66da-4c9c-9ce8-f4bcc266f241"
      },
      "outputs": [
        {
          "data": {
            "text/plain": [
              "[<matplotlib.lines.Line2D at 0x7ff0611b2f40>]"
            ]
          },
          "execution_count": 34,
          "metadata": {},
          "output_type": "execute_result"
        },
        {
          "data": {
            "image/png": "[encoded data removed]",
            "text/plain": [
              "<Figure size 432x288 with 1 Axes>"
            ]
          },
          "metadata": {
            "needs_background": "light"
          },
          "output_type": "display_data"
        }
      ],
      "source": [
        "y3=(x*x*x)/100\n",
        "y3\n",
        "plt.plot(x, y3, label = \"line\")"
      ]
    },
    {
      "cell_type": "code",
      "execution_count": null,
      "id": "b6ce4ffc",
      "metadata": {
        "colab": {
          "base_uri": "https://localhost:8080/",
          "height": 282
        },
        "id": "b6ce4ffc",
        "outputId": "bbfc4c3f-dc3e-44a1-c6f9-4bde9bdf0bcb"
      },
      "outputs": [
        {
          "data": {
            "text/plain": [
              "[<matplotlib.lines.Line2D at 0x7ff061108cd0>]"
            ]
          },
          "execution_count": 35,
          "metadata": {},
          "output_type": "execute_result"
        },
        {
          "data": {
            "image/png": "[encoded data removed]",
            "text/plain": [
              "<Figure size 432x288 with 1 Axes>"
            ]
          },
          "metadata": {
            "needs_background": "light"
          },
          "output_type": "display_data"
        }
      ],
      "source": [
        "y4=np.sin(x)\n",
        "plt.plot(x, y4, label = \"line\")"
      ]
    },
    {
      "cell_type": "code",
      "execution_count": null,
      "id": "0a43d03c",
      "metadata": {
        "colab": {
          "base_uri": "https://localhost:8080/",
          "height": 283
        },
        "id": "0a43d03c",
        "outputId": "0075dd87-21e9-4dad-922a-bcbcb97ec5ad"
      },
      "outputs": [
        {
          "data": {
            "text/plain": [
              "[<matplotlib.lines.Line2D at 0x7ff0610e4d60>]"
            ]
          },
          "execution_count": 36,
          "metadata": {},
          "output_type": "execute_result"
        },
        {
          "data": {
            "image/png": "[encoded data removed]",
            "text/plain": [
              "<Figure size 432x288 with 1 Axes>"
            ]
          },
          "metadata": {
            "needs_background": "light"
          },
          "output_type": "display_data"
        }
      ],
      "source": [
        "y5=(np.sin(x))/x\n",
        "plt.plot(x, y5, label = \"line\")\n"
      ]
    },
    {
      "cell_type": "code",
      "execution_count": null,
      "id": "c89f077c",
      "metadata": {
        "colab": {
          "base_uri": "https://localhost:8080/",
          "height": 282
        },
        "id": "c89f077c",
        "outputId": "60b4da05-45fb-46a4-a3d4-2e1d95d7e487"
      },
      "outputs": [
        {
          "data": {
            "text/plain": [
              "[<matplotlib.lines.Line2D at 0x7ff061046190>]"
            ]
          },
          "execution_count": 37,
          "metadata": {},
          "output_type": "execute_result"
        },
        {
          "data": {
            "image/png": "[encoded data removed]",
            "text/plain": [
              "<Figure size 432x288 with 1 Axes>"
            ]
          },
          "metadata": {
            "needs_background": "light"
          },
          "output_type": "display_data"
        }
      ],
      "source": [
        "y6=np.log(x)\n",
        "plt.plot(x, y6, label = \"line\")"
      ]
    },
    {
      "cell_type": "code",
      "execution_count": null,
      "id": "aaecb0ac",
      "metadata": {
        "colab": {
          "base_uri": "https://localhost:8080/",
          "height": 293
        },
        "id": "aaecb0ac",
        "outputId": "0b762227-3fb7-4d80-90e6-a9f9fc04d67a"
      },
      "outputs": [
        {
          "data": {
            "text/plain": [
              "[<matplotlib.lines.Line2D at 0x7ff061014970>]"
            ]
          },
          "execution_count": 38,
          "metadata": {},
          "output_type": "execute_result"
        },
        {
          "data": {
            "image/png": "[encoded data removed]",
            "text/plain": [
              "<Figure size 432x288 with 1 Axes>"
            ]
          },
          "metadata": {
            "needs_background": "light"
          },
          "output_type": "display_data"
        }
      ],
      "source": [
        "y7=np.exp(x)\n",
        "plt.plot(x, y7, label = \"line\")"
      ]
    },
    {
      "cell_type": "markdown",
      "id": "ssW58moMOQ2F",
      "metadata": {
        "id": "ssW58moMOQ2F"
      },
      "source": [
        "**Question (10) Using numpy generate a matrix of size 20X5 containing random numbers drawn uniformly from the range of 1 to 2. Using Pandas create a dataframe out of this matrix. Name the columns of the dataframe as “a”, “b”, “c”, “d”, “e”. Find the column with the highest standard deviation. Find the row with the lowest mean.**\n"
      ]
    }
  ],
  "metadata": {
    "colab": {
      "provenance": []
    },
    "kernelspec": {
      "display_name": "Python 3 (ipykernel)",
      "language": "python",
      "name": "python3"
    },
    "language_info": {
      "codemirror_mode": {
        "name": "ipython",
        "version": 3
      },
      "file_extension": ".py",
      "mimetype": "text/x-python",
      "name": "python",
      "nbconvert_exporter": "python",
      "pygments_lexer": "ipython3",
      "version": "3.12.1"
    }
  },
  "nbformat": 4,
  "nbformat_minor": 5
}
